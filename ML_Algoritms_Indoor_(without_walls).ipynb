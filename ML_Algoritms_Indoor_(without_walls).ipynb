{
  "nbformat": 4,
  "nbformat_minor": 0,
  "metadata": {
    "colab": {
      "name": "ML Algoritms - Indoor (without walls).ipynb",
      "provenance": [],
      "collapsed_sections": [],
      "authorship_tag": "ABX9TyO+/4qmEQi0O1CKSb+PLtaJ",
      "include_colab_link": true
    },
    "kernelspec": {
      "name": "python3",
      "display_name": "Python 3"
    },
    "language_info": {
      "name": "python"
    }
  },
  "cells": [
    {
      "cell_type": "markdown",
      "metadata": {
        "id": "view-in-github",
        "colab_type": "text"
      },
      "source": [
        "<a href=\"https://colab.research.google.com/github/YoizNunez/ProjectPUC-Rio/blob/main/ML_Algoritms_Indoor_(without_walls).ipynb\" target=\"_parent\"><img src=\"https://colab.research.google.com/assets/colab-badge.svg\" alt=\"Open In Colab\"/></a>"
      ]
    },
    {
      "cell_type": "markdown",
      "metadata": {
        "id": "DpmCVuN27Sut"
      },
      "source": [
        "Importing libraries"
      ]
    },
    {
      "cell_type": "code",
      "metadata": {
        "id": "aAyaVRyL7RD4"
      },
      "source": [
        "import numpy as np\n",
        "import matplotlib.pyplot as plt\n",
        "import pandas as pd\n",
        "\n",
        "import numpy as np\n",
        "import pandas as pd\n",
        "import seaborn as sns\n",
        "from tqdm.notebook import tqdm\n",
        "import matplotlib.pyplot as plt\n",
        "\n",
        "import torch\n",
        "import torch.nn as nn\n",
        "import torch.optim as optim\n",
        "from torch.utils.data import Dataset, DataLoader, ConcatDataset\n",
        "from torch.utils.data import SubsetRandomSampler #split the dataset\n",
        "\n",
        "from sklearn.preprocessing import MinMaxScaler    \n",
        "from sklearn.model_selection import train_test_split\n",
        "from sklearn.metrics import mean_squared_error, r2_score\n",
        "import math\n",
        "\n",
        "from sklearn.model_selection import KFold\n",
        "\n",
        "# to reproducible results\n",
        "torch.manual_seed(0)\n",
        "np.random.seed(0)\n",
        "\n",
        "import random\n",
        "random.seed(0)"
      ],
      "execution_count": 1,
      "outputs": []
    },
    {
      "cell_type": "code",
      "metadata": {
        "colab": {
          "base_uri": "https://localhost:8080/"
        },
        "id": "n_vlDj5T7bLv",
        "outputId": "3d05155f-8d67-49cb-b853-fd92a2ddbb99"
      },
      "source": [
        "# allow access to google drive\n",
        "from google.colab import drive\n",
        "drive.mount('/content/gdrive')"
      ],
      "execution_count": 2,
      "outputs": [
        {
          "output_type": "stream",
          "text": [
            "Mounted at /content/gdrive\n"
          ],
          "name": "stdout"
        }
      ]
    },
    {
      "cell_type": "code",
      "metadata": {
        "colab": {
          "base_uri": "https://localhost:8080/",
          "height": 196
        },
        "id": "jx_2XUgY7mI1",
        "outputId": "503b47ab-928c-4182-f335-18f95ccc801a"
      },
      "source": [
        "df = pd.read_csv(\"/content/gdrive/My Drive/ProjectCNN/dados_indoor_puc.csv\")\n",
        "df.head()"
      ],
      "execution_count": 3,
      "outputs": [
        {
          "output_type": "execute_result",
          "data": {
            "text/html": [
              "<div>\n",
              "<style scoped>\n",
              "    .dataframe tbody tr th:only-of-type {\n",
              "        vertical-align: middle;\n",
              "    }\n",
              "\n",
              "    .dataframe tbody tr th {\n",
              "        vertical-align: top;\n",
              "    }\n",
              "\n",
              "    .dataframe thead th {\n",
              "        text-align: right;\n",
              "    }\n",
              "</style>\n",
              "<table border=\"1\" class=\"dataframe\">\n",
              "  <thead>\n",
              "    <tr style=\"text-align: right;\">\n",
              "      <th></th>\n",
              "      <th>Frequency</th>\n",
              "      <th>Distance</th>\n",
              "      <th>a_m</th>\n",
              "      <th>b_m</th>\n",
              "      <th>Walls</th>\n",
              "      <th>PL</th>\n",
              "    </tr>\n",
              "  </thead>\n",
              "  <tbody>\n",
              "    <tr>\n",
              "      <th>0</th>\n",
              "      <td>26.5</td>\n",
              "      <td>6.59</td>\n",
              "      <td>6.3</td>\n",
              "      <td>1.94</td>\n",
              "      <td>2</td>\n",
              "      <td>112.1982</td>\n",
              "    </tr>\n",
              "    <tr>\n",
              "      <th>1</th>\n",
              "      <td>26.5</td>\n",
              "      <td>11.76</td>\n",
              "      <td>11.6</td>\n",
              "      <td>1.93</td>\n",
              "      <td>2</td>\n",
              "      <td>115.7627</td>\n",
              "    </tr>\n",
              "    <tr>\n",
              "      <th>2</th>\n",
              "      <td>26.5</td>\n",
              "      <td>9.04</td>\n",
              "      <td>8.9</td>\n",
              "      <td>1.60</td>\n",
              "      <td>3</td>\n",
              "      <td>122.5733</td>\n",
              "    </tr>\n",
              "    <tr>\n",
              "      <th>3</th>\n",
              "      <td>26.5</td>\n",
              "      <td>4.25</td>\n",
              "      <td>3.6</td>\n",
              "      <td>2.25</td>\n",
              "      <td>1</td>\n",
              "      <td>104.3808</td>\n",
              "    </tr>\n",
              "    <tr>\n",
              "      <th>4</th>\n",
              "      <td>26.5</td>\n",
              "      <td>3.50</td>\n",
              "      <td>2.7</td>\n",
              "      <td>2.22</td>\n",
              "      <td>1</td>\n",
              "      <td>100.7860</td>\n",
              "    </tr>\n",
              "  </tbody>\n",
              "</table>\n",
              "</div>"
            ],
            "text/plain": [
              "   Frequency  Distance   a_m   b_m  Walls        PL\n",
              "0       26.5      6.59   6.3  1.94      2  112.1982\n",
              "1       26.5     11.76  11.6  1.93      2  115.7627\n",
              "2       26.5      9.04   8.9  1.60      3  122.5733\n",
              "3       26.5      4.25   3.6  2.25      1  104.3808\n",
              "4       26.5      3.50   2.7  2.22      1  100.7860"
            ]
          },
          "metadata": {
            "tags": []
          },
          "execution_count": 3
        }
      ]
    },
    {
      "cell_type": "markdown",
      "metadata": {
        "id": "HubmzZvD7wH2"
      },
      "source": [
        "Creating input and output data"
      ]
    },
    {
      "cell_type": "code",
      "metadata": {
        "id": "6SEzN13l7o-u"
      },
      "source": [
        "X = df.iloc[:, 0:-2]\n",
        "y = df.iloc[:, -1]\n",
        "\n",
        "# splitting the data 80% Training, 20% Testing\n",
        "X_train, X_test, y_train, y_test = train_test_split(X, y, test_size=0.2, random_state=0)"
      ],
      "execution_count": 4,
      "outputs": []
    },
    {
      "cell_type": "code",
      "metadata": {
        "id": "aVD6TcIf72gV"
      },
      "source": [
        "\"\"\"\n",
        "Normalizing the data between 0 to 1\n",
        "\"\"\"\n",
        "# normalize inputs\n",
        "scaler = MinMaxScaler()\n",
        "X_train = scaler.fit_transform(X_train)\n",
        "X_test = scaler.transform(X_test)\n",
        "X_train, y_train = np.array(X_train), np.array(y_train)\n",
        "X_test, y_test = np.array(X_test), np.array(y_test)\n",
        "\n",
        "# normalize output\n",
        "y_train = y_train.reshape(-1, 1)\n",
        "y_train = scaler.fit_transform(y_train)\n",
        "y_test = y_test.reshape(-1, 1)\n",
        "y_test = scaler.transform(y_test)\n",
        "\n",
        "# convert Output Variable to Float\n",
        "y_train, y_test = y_train.astype(float), y_test.astype(float),"
      ],
      "execution_count": 5,
      "outputs": []
    },
    {
      "cell_type": "markdown",
      "metadata": {
        "id": "4611umEI77_O"
      },
      "source": [
        "Training phase"
      ]
    },
    {
      "cell_type": "code",
      "metadata": {
        "colab": {
          "base_uri": "https://localhost:8080/"
        },
        "id": "_kCUFLRB766A",
        "outputId": "6029ee06-52af-4008-8a5b-8eaa5497abee"
      },
      "source": [
        "from sklearn.neural_network import MLPRegressor\n",
        "from sklearn.svm import SVR\n",
        "from sklearn.ensemble import RandomForestRegressor\n",
        "\n",
        "# MLP\n",
        "mlp_regressor = MLPRegressor(hidden_layer_sizes=178,\n",
        "                            activation='relu',\n",
        "                            solver='lbfgs',\n",
        "                            alpha=0.003,\n",
        "                            learning_rate_init=0.001,\n",
        "                            momentum=0.9,\n",
        "                            random_state=1, \n",
        "                            max_iter=6000,\n",
        "                            early_stopping=True)\n",
        "\n",
        "mlp_regressor.fit(X_train,np.ravel(y_train))\n",
        "\n",
        "# SVR\n",
        "svr_regressor = SVR(kernel='rbf', degree=3, gamma='scale', coef0=0.0, tol=0.001, C=235, epsilon=0.001, \n",
        "                shrinking=True, cache_size=200, verbose=False, max_iter=-1)\n",
        "\n",
        "svr_regressor.fit(X_train,np.ravel(y_train))\n",
        "\n",
        "# Random Forest\n",
        "rf_regressor = RandomForestRegressor(n_estimators=68)\n",
        "\n",
        "rf_regressor.fit(X_train, np.ravel(y_train))"
      ],
      "execution_count": 6,
      "outputs": [
        {
          "output_type": "execute_result",
          "data": {
            "text/plain": [
              "RandomForestRegressor(bootstrap=True, ccp_alpha=0.0, criterion='mse',\n",
              "                      max_depth=None, max_features='auto', max_leaf_nodes=None,\n",
              "                      max_samples=None, min_impurity_decrease=0.0,\n",
              "                      min_impurity_split=None, min_samples_leaf=1,\n",
              "                      min_samples_split=2, min_weight_fraction_leaf=0.0,\n",
              "                      n_estimators=68, n_jobs=None, oob_score=False,\n",
              "                      random_state=None, verbose=0, warm_start=False)"
            ]
          },
          "metadata": {
            "tags": []
          },
          "execution_count": 6
        }
      ]
    },
    {
      "cell_type": "markdown",
      "metadata": {
        "id": "6xm9-xq98GDe"
      },
      "source": [
        "Testing phase"
      ]
    },
    {
      "cell_type": "code",
      "metadata": {
        "id": "L6jvkIKb8DIX"
      },
      "source": [
        "# MLP Testing phase (prediction of the model)\n",
        "y_pred_mlp = mlp_regressor.predict(X_test)\n",
        "y_pred_mlp = y_pred_mlp.reshape(-1,1)\n",
        "y_pred_desn_mlp = scaler.inverse_transform(y_pred_mlp) #desnormalization\n",
        "y_target_desn_mlp = scaler.inverse_transform(y_test) #desnormalization\n",
        "\n",
        "# SVR Testing phase (prediction of the model)\n",
        "y_pred_svr = svr_regressor.predict(X_test)\n",
        "y_pred_svr = y_pred_svr.reshape(-1,1)\n",
        "y_pred_desn_svr = scaler.inverse_transform(y_pred_svr)\n",
        "y_target_desn_svr = scaler.inverse_transform(y_test)\n",
        "\n",
        "# RF Testing phase (prediction of the model)\n",
        "y_pred_rf = rf_regressor.predict(X_test)\n",
        "y_pred_rf = y_pred_rf.reshape(-1,1)\n",
        "y_pred_desn_rf = scaler.inverse_transform(y_pred_rf)\n",
        "y_target_desn_rf = scaler.inverse_transform(y_test)"
      ],
      "execution_count": 13,
      "outputs": []
    },
    {
      "cell_type": "markdown",
      "metadata": {
        "id": "Vk1XsoS98LBV"
      },
      "source": [
        "RMSE results"
      ]
    },
    {
      "cell_type": "code",
      "metadata": {
        "id": "Q_SYAOBY8Ke3"
      },
      "source": [
        "# MLP\n",
        "MSE = np.square(np.subtract(y_target_desn_mlp,y_pred_desn_mlp)).mean()\n",
        "RMSE_desn_mlp = math.sqrt(MSE) # RMSE in dB with desnormalized value \n",
        "\n",
        "# SVR\n",
        "MSE = np.square(np.subtract(y_target_desn_svr,y_pred_desn_svr)).mean()\n",
        "RMSE_desn_svr = math.sqrt(MSE) # RMSE in dB with desnormalized value \n",
        "\n",
        "# RF \n",
        "MSE = np.square(np.subtract(y_target_desn_rf,y_pred_desn_rf)).mean()\n",
        "RMSE_desn_rf = math.sqrt(MSE) # RMSE in dB with desnormalized value "
      ],
      "execution_count": 14,
      "outputs": []
    },
    {
      "cell_type": "markdown",
      "metadata": {
        "id": "Ux3LzpP08Q3H"
      },
      "source": [
        "Regression metric results"
      ]
    },
    {
      "cell_type": "code",
      "metadata": {
        "id": "XVBbM9oE8PnG"
      },
      "source": [
        "from sklearn.metrics import r2_score\n",
        "R2_score_mlp = r2_score(y_target_desn_mlp, y_pred_desn_mlp) # MLP\n",
        "R2_score_svr = r2_score(y_target_desn_svr, y_pred_desn_svr) # SVR\n",
        "R2_score_rf = r2_score(y_target_desn_rf, y_pred_desn_rf) #RF"
      ],
      "execution_count": 16,
      "outputs": []
    },
    {
      "cell_type": "code",
      "metadata": {
        "id": "D-X4b-AG8Y3G",
        "colab": {
          "base_uri": "https://localhost:8080/"
        },
        "outputId": "ea20df4d-e4e2-4f93-c0d2-96e77fc53373"
      },
      "source": [
        "import tabulate\n",
        "from tabulate import tabulate\n",
        "\n",
        "data = [['MLP',RMSE_desn_mlp, R2_score_mlp],\n",
        "['SVR',RMSE_desn_svr ,R2_score_svr],\n",
        "['RF',RMSE_desn_rf ,R2_score_rf]]\n",
        "\n",
        "print(tabulate(data, headers=[\"Testing set\",\"RMSE [dB]\", 'R^2']))"
      ],
      "execution_count": 17,
      "outputs": [
        {
          "output_type": "stream",
          "text": [
            "Testing set      RMSE [dB]       R^2\n",
            "-------------  -----------  --------\n",
            "MLP                5.91074  0.834896\n",
            "SVR                8.00772  0.696965\n",
            "RF                 5.57991  0.85286\n"
          ],
          "name": "stdout"
        }
      ]
    },
    {
      "cell_type": "code",
      "metadata": {
        "colab": {
          "base_uri": "https://localhost:8080/",
          "height": 284
        },
        "id": "k8cBzrMg8gmo",
        "outputId": "08a78c8d-af5d-4c07-b894-83c489c172f3"
      },
      "source": [
        "\"\"\"\n",
        "Plot results\n",
        "\"\"\"\n",
        "plt.scatter(y_target_desn_mlp, y_pred_desn_mlp, label= 'MLP, $R^2 = 0.83$',c='olivedrab')\n",
        "plt.scatter(y_target_desn_svr, y_pred_desn_svr, label= 'SVR, $R^2 = 0.70$',c='darksalmon')\n",
        "plt.scatter(y_target_desn_rf, y_pred_desn_rf, label= 'RF,   $R^2 = 0.85$',c='turquoise')\n",
        "p1 = max(max(y_target_desn_mlp), max(y_target_desn_mlp))\n",
        "p2 = min(min(y_target_desn_mlp), min(y_target_desn_mlp))\n",
        "plt.plot([p1, p2], [p1, p2], 'b-',linewidth=2.5,label= 'Best fit',c='navy')\n",
        "plt.xlabel('Target PL [dB]', fontsize=13)\n",
        "plt.ylabel('Prediction PL [dB]', fontsize=13)\n",
        "plt.legend(loc='best')\n",
        "plt.grid()\n",
        "plt.show()\n"
      ],
      "execution_count": 18,
      "outputs": [
        {
          "output_type": "display_data",
          "data": {
            "image/png": "[encoded data removed]",
            "text/plain": [
              "<Figure size 432x288 with 1 Axes>"
            ]
          },
          "metadata": {
            "tags": [],
            "needs_background": "light"
          }
        }
      ]
    },
    {
      "cell_type": "code",
      "metadata": {
        "id": "NKUjn8k18jg4",
        "colab": {
          "base_uri": "https://localhost:8080/"
        },
        "outputId": "b68ccdfc-8e00-4a5f-a1e0-348d67b2ca8c"
      },
      "source": [
        "# Showing RMSE predicition for the Training set\n",
        "\n",
        "# MLP\n",
        "y_pred_mlp = mlp_regressor.predict(X_train)\n",
        "y_pred_mlp = y_pred_mlp.reshape(-1,1)\n",
        "y_pred_desn_mlp = scaler.inverse_transform(y_pred_mlp) #desnormalization\n",
        "y_target_desn_mlp = scaler.inverse_transform(y_train) #desnormalization\n",
        "\n",
        "# SVR \n",
        "y_pred_svr = svr_regressor.predict(X_train)\n",
        "y_pred_svr = y_pred_svr.reshape(-1,1)\n",
        "y_pred_desn_svr = scaler.inverse_transform(y_pred_svr)\n",
        "y_target_desn_svr = scaler.inverse_transform(y_train)\n",
        "\n",
        "# RF \n",
        "y_pred_rf = rf_regressor.predict(X_train)\n",
        "y_pred_rf = y_pred_rf.reshape(-1,1)\n",
        "y_pred_desn_rf = scaler.inverse_transform(y_pred_rf)\n",
        "y_target_desn_rf = scaler.inverse_transform(y_train)\n",
        "\n",
        "MSE = np.square(np.subtract(y_target_desn_mlp,y_pred_desn_mlp)).mean()\n",
        "RMSE_desn_mlp = math.sqrt(MSE) # RMSE in dB with desnormalized value \n",
        "\n",
        "MSE = np.square(np.subtract(y_target_desn_svr,y_pred_desn_svr)).mean()\n",
        "RMSE_desn_svr = math.sqrt(MSE) # RMSE in dB with desnormalized value \n",
        "\n",
        "MSE = np.square(np.subtract(y_target_desn_rf,y_pred_desn_rf)).mean()\n",
        "RMSE_desn_rf = math.sqrt(MSE) # RMSE in dB with desnormalized value \n",
        "\n",
        "R2_score_mlp = r2_score(y_target_desn_mlp, y_pred_desn_mlp) # MLP\n",
        "R2_score_svr = r2_score(y_target_desn_svr, y_pred_desn_svr) # SVR\n",
        "R2_score_rf = r2_score(y_target_desn_rf, y_pred_desn_rf) #RF\n",
        "\n",
        "\n",
        "data = [['MLP',RMSE_desn_mlp, R2_score_mlp],\n",
        "['SVR',RMSE_desn_svr ,R2_score_svr],\n",
        "['RF',RMSE_desn_rf ,R2_score_rf]]\n",
        "\n",
        "print(tabulate(data, headers=[\"Training set\",\"RMSE [dB]\", 'R^2']))"
      ],
      "execution_count": 19,
      "outputs": [
        {
          "output_type": "stream",
          "text": [
            "Training set      RMSE [dB]       R^2\n",
            "--------------  -----------  --------\n",
            "MLP                 6.67367  0.784762\n",
            "SVR                 8.36238  0.662052\n",
            "RF                  4.90403  0.883776\n"
          ],
          "name": "stdout"
        }
      ]
    }
  ]
}